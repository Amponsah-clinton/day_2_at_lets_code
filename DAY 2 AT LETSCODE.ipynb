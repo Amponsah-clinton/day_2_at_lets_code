{
 "cells": [
  {
   "cell_type": "code",
   "execution_count": 1,
   "id": "630daa92-9111-4579-910d-76399ee186ec",
   "metadata": {},
   "outputs": [
    {
     "ename": "IndentationError",
     "evalue": "expected an indented block (362341676.py, line 6)",
     "output_type": "error",
     "traceback": [
      "\u001b[1;36m  Input \u001b[1;32mIn [1]\u001b[1;36m\u001b[0m\n\u001b[1;33m    \u001b[0m\n\u001b[1;37m    ^\u001b[0m\n\u001b[1;31mIndentationError\u001b[0m\u001b[1;31m:\u001b[0m expected an indented block\n"
     ]
    }
   ],
   "source": [
    "# converting time from seconds to hours\n",
    "for hours in range(24):\n",
    "    for minutes in range(60):\n",
    "        for seconds in range(60):\n",
    "             print(f\"{hours}:\\t{minutes}:\\t{seconds}\")\n",
    "    \n",
    "    "
   ]
  },
  {
   "cell_type": "code",
   "execution_count": 5,
   "id": "3c006f41-9e16-4806-8024-b1174a49052f",
   "metadata": {},
   "outputs": [
    {
     "name": "stdin",
     "output_type": "stream",
     "text": [
      "Enter the wholesale price : 12\n"
     ]
    },
    {
     "name": "stdout",
     "output_type": "stream",
     "text": [
      "7.199999999999999\n"
     ]
    },
    {
     "name": "stdin",
     "output_type": "stream",
     "text": [
      "Use capital Y or N if you want to continue : N\n"
     ]
    }
   ],
   "source": [
    "# looping forever\n",
    "while True:\n",
    "    c=float(input(\"Enter the wholesale price :\"))\n",
    "    retail_price= c*0.6\n",
    "    print(retail_price)\n",
    "    x=input(\"Use capital Y or N if you want to continue :\")\n",
    "    if x == \"Y\":\n",
    "        continue\n",
    "    else:\n",
    "        break\n"
   ]
  },
  {
   "cell_type": "code",
   "execution_count": 6,
   "id": "2c1ba616-3212-4e98-85c5-3441c5adeb32",
   "metadata": {},
   "outputs": [
    {
     "name": "stdout",
     "output_type": "stream",
     "text": [
      "\n",
      "-------------\n",
      "Number\t\tSquare\n",
      "0\t\t0\n",
      "1\t\t1\n",
      "2\t\t4\n",
      "3\t\t9\n"
     ]
    }
   ],
   "source": [
    "# squaring numbers from a range\n",
    "print(\"\\n-------------\\nNumber\\t\\tSquare\")\n",
    "for number in range(0,4):\n",
    "    square=number**2\n",
    "    print(f\"{number}\\t\\t{square}\")"
   ]
  },
  {
   "cell_type": "code",
   "execution_count": null,
   "id": "3f6a0582-98be-4677-9647-08405218c5a1",
   "metadata": {},
   "outputs": [
    {
     "name": "stdout",
     "output_type": "stream",
     "text": [
      "\n",
      "-------------\n",
      "mph\t\tkmh\n"
     ]
    }
   ],
   "source": []
  },
  {
   "cell_type": "code",
   "execution_count": null,
   "id": "cf7a1df0",
   "metadata": {},
   "outputs": [],
   "source": [
    "# converting speed\n",
    "print(\"\\n-------------\\nmph\\t\\tkmh\")\n",
    "start=int(input(\"enter start \"))\n",
    "end=int(input(\"enter end \"))\n",
    "for x in range(start,end+1):\n",
    "    print()\n",
    "if end>10:\n",
    " # speed above 10 make interval 5\n",
    "    for i in range(start,end,5):\n",
    "            print(i/1000)\n",
    "else:\n",
    "    for x in range(start,end+1):\n",
    "        print(x/1000)\n",
    "\n"
   ]
  },
  {
   "cell_type": "code",
   "execution_count": null,
   "id": "f98a7703",
   "metadata": {},
   "outputs": [],
   "source": []
  },
  {
   "cell_type": "code",
   "execution_count": null,
   "id": "20b0b4c9-5a1f-4291-91e5-08d4711e1467",
   "metadata": {},
   "outputs": [],
   "source": []
  },
  {
   "cell_type": "code",
   "execution_count": null,
   "id": "6fd5c315",
   "metadata": {},
   "outputs": [],
   "source": []
  }
 ],
 "metadata": {
  "kernelspec": {
   "display_name": "Python 3 (ipykernel)",
   "language": "python",
   "name": "python3"
  },
  "language_info": {
   "codemirror_mode": {
    "name": "ipython",
    "version": 3
   },
   "file_extension": ".py",
   "mimetype": "text/x-python",
   "name": "python",
   "nbconvert_exporter": "python",
   "pygments_lexer": "ipython3",
   "version": "3.9.12"
  }
 },
 "nbformat": 4,
 "nbformat_minor": 5
}
